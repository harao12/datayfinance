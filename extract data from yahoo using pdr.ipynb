{
 "cells": [
  {
   "cell_type": "code",
   "execution_count": 1,
   "id": "5511ffda",
   "metadata": {},
   "outputs": [],
   "source": [
    "import pandas as pd\n",
    "import numpy as np\n",
    "from pandas_datareader import data as pdr\n",
    "import datetime as dt\n",
    "import yfinance as yf"
   ]
  },
  {
   "cell_type": "code",
   "execution_count": 3,
   "id": "93d04f01",
   "metadata": {},
   "outputs": [
    {
     "name": "stdout",
     "output_type": "stream",
     "text": [
      "[*********************100%***********************]  2 of 2 completed\n"
     ]
    }
   ],
   "source": [
    "stocks = ['AAPL','GOLD']\n",
    "start = dt.datetime(2016, 10, 1)\n",
    "end = dt.datetime(2021, 11, 1)\n",
    "yf.pdr_override()\n",
    "df = pdr.get_data_yahoo(stocks, start, end )"
   ]
  },
  {
   "cell_type": "code",
   "execution_count": 4,
   "id": "2a18c596",
   "metadata": {},
   "outputs": [
    {
     "data": {
      "text/html": [
       "<div>\n",
       "<style scoped>\n",
       "    .dataframe tbody tr th:only-of-type {\n",
       "        vertical-align: middle;\n",
       "    }\n",
       "\n",
       "    .dataframe tbody tr th {\n",
       "        vertical-align: top;\n",
       "    }\n",
       "\n",
       "    .dataframe thead tr th {\n",
       "        text-align: left;\n",
       "    }\n",
       "\n",
       "    .dataframe thead tr:last-of-type th {\n",
       "        text-align: right;\n",
       "    }\n",
       "</style>\n",
       "<table border=\"1\" class=\"dataframe\">\n",
       "  <thead>\n",
       "    <tr>\n",
       "      <th></th>\n",
       "      <th colspan=\"2\" halign=\"left\">Adj Close</th>\n",
       "      <th colspan=\"2\" halign=\"left\">Close</th>\n",
       "      <th colspan=\"2\" halign=\"left\">High</th>\n",
       "      <th colspan=\"2\" halign=\"left\">Low</th>\n",
       "      <th colspan=\"2\" halign=\"left\">Open</th>\n",
       "      <th colspan=\"2\" halign=\"left\">Volume</th>\n",
       "    </tr>\n",
       "    <tr>\n",
       "      <th></th>\n",
       "      <th>AAPL</th>\n",
       "      <th>GOLD</th>\n",
       "      <th>AAPL</th>\n",
       "      <th>GOLD</th>\n",
       "      <th>AAPL</th>\n",
       "      <th>GOLD</th>\n",
       "      <th>AAPL</th>\n",
       "      <th>GOLD</th>\n",
       "      <th>AAPL</th>\n",
       "      <th>GOLD</th>\n",
       "      <th>AAPL</th>\n",
       "      <th>GOLD</th>\n",
       "    </tr>\n",
       "    <tr>\n",
       "      <th>Date</th>\n",
       "      <th></th>\n",
       "      <th></th>\n",
       "      <th></th>\n",
       "      <th></th>\n",
       "      <th></th>\n",
       "      <th></th>\n",
       "      <th></th>\n",
       "      <th></th>\n",
       "      <th></th>\n",
       "      <th></th>\n",
       "      <th></th>\n",
       "      <th></th>\n",
       "    </tr>\n",
       "  </thead>\n",
       "  <tbody>\n",
       "    <tr>\n",
       "      <th>2016-10-03</th>\n",
       "      <td>26.012224</td>\n",
       "      <td>15.070419</td>\n",
       "      <td>28.129999</td>\n",
       "      <td>17.389999</td>\n",
       "      <td>28.262501</td>\n",
       "      <td>17.870001</td>\n",
       "      <td>28.070000</td>\n",
       "      <td>17.25</td>\n",
       "      <td>28.177500</td>\n",
       "      <td>17.700001</td>\n",
       "      <td>86807200</td>\n",
       "      <td>10308400</td>\n",
       "    </tr>\n",
       "    <tr>\n",
       "      <th>2016-10-04</th>\n",
       "      <td>26.123190</td>\n",
       "      <td>13.389186</td>\n",
       "      <td>28.250000</td>\n",
       "      <td>15.450000</td>\n",
       "      <td>28.577499</td>\n",
       "      <td>16.770000</td>\n",
       "      <td>28.157499</td>\n",
       "      <td>15.39</td>\n",
       "      <td>28.264999</td>\n",
       "      <td>16.750000</td>\n",
       "      <td>118947200</td>\n",
       "      <td>37042200</td>\n",
       "    </tr>\n",
       "    <tr>\n",
       "      <th>2016-10-05</th>\n",
       "      <td>26.134750</td>\n",
       "      <td>13.848495</td>\n",
       "      <td>28.262501</td>\n",
       "      <td>15.980000</td>\n",
       "      <td>28.415001</td>\n",
       "      <td>16.030001</td>\n",
       "      <td>28.172501</td>\n",
       "      <td>15.53</td>\n",
       "      <td>28.350000</td>\n",
       "      <td>15.800000</td>\n",
       "      <td>85812400</td>\n",
       "      <td>17985500</td>\n",
       "    </tr>\n",
       "  </tbody>\n",
       "</table>\n",
       "</div>"
      ],
      "text/plain": [
       "            Adj Close                 Close                  High             \\\n",
       "                 AAPL       GOLD       AAPL       GOLD       AAPL       GOLD   \n",
       "Date                                                                           \n",
       "2016-10-03  26.012224  15.070419  28.129999  17.389999  28.262501  17.870001   \n",
       "2016-10-04  26.123190  13.389186  28.250000  15.450000  28.577499  16.770000   \n",
       "2016-10-05  26.134750  13.848495  28.262501  15.980000  28.415001  16.030001   \n",
       "\n",
       "                  Low              Open                Volume            \n",
       "                 AAPL   GOLD       AAPL       GOLD       AAPL      GOLD  \n",
       "Date                                                                     \n",
       "2016-10-03  28.070000  17.25  28.177500  17.700001   86807200  10308400  \n",
       "2016-10-04  28.157499  15.39  28.264999  16.750000  118947200  37042200  \n",
       "2016-10-05  28.172501  15.53  28.350000  15.800000   85812400  17985500  "
      ]
     },
     "execution_count": 4,
     "metadata": {},
     "output_type": "execute_result"
    }
   ],
   "source": [
    "df.head(3)"
   ]
  },
  {
   "cell_type": "code",
   "execution_count": 6,
   "id": "934f69a9",
   "metadata": {},
   "outputs": [
    {
     "data": {
      "text/plain": [
       "DatetimeIndex(['2016-10-03', '2016-10-04', '2016-10-05', '2016-10-06',\n",
       "               '2016-10-07', '2016-10-10', '2016-10-11', '2016-10-12',\n",
       "               '2016-10-13', '2016-10-14',\n",
       "               ...\n",
       "               '2021-10-18', '2021-10-19', '2021-10-20', '2021-10-21',\n",
       "               '2021-10-22', '2021-10-25', '2021-10-26', '2021-10-27',\n",
       "               '2021-10-28', '2021-10-29'],\n",
       "              dtype='datetime64[ns]', name='Date', length=1279, freq=None)"
      ]
     },
     "execution_count": 6,
     "metadata": {},
     "output_type": "execute_result"
    }
   ],
   "source": [
    "df.index"
   ]
  },
  {
   "cell_type": "code",
   "execution_count": null,
   "id": "7cbbb573",
   "metadata": {},
   "outputs": [],
   "source": []
  }
 ],
 "metadata": {
  "kernelspec": {
   "display_name": "Python 3 (ipykernel)",
   "language": "python",
   "name": "python3"
  },
  "language_info": {
   "codemirror_mode": {
    "name": "ipython",
    "version": 3
   },
   "file_extension": ".py",
   "mimetype": "text/x-python",
   "name": "python",
   "nbconvert_exporter": "python",
   "pygments_lexer": "ipython3",
   "version": "3.9.7"
  }
 },
 "nbformat": 4,
 "nbformat_minor": 5
}
